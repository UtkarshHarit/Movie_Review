{
  "nbformat": 4,
  "nbformat_minor": 0,
  "metadata": {
    "colab": {
      "name": "MovieReview.ipynb",
      "version": "0.3.2",
      "provenance": []
    }
  },
  "cells": [
    {
      "metadata": {
        "id": "iKoukexyBU8J",
        "colab_type": "code",
        "colab": {
          "base_uri": "https://localhost:8080/",
          "height": 102
        },
        "outputId": "215c4b66-34d5-4677-e17f-64b4ffbbee7c"
      },
      "cell_type": "code",
      "source": [
        "# coding: utf-8\n",
        "\n",
        "# In[20]:\n",
        "\n",
        "\n",
        "import keras\n",
        "keras.__version__\n",
        "\n",
        "\n",
        "# # Classifying movie reviews: a binary classification example\n",
        "# \n",
        "# ## The IMDB dataset\n",
        "\n",
        "from keras.datasets import imdb\n",
        "\n",
        "(train_data, train_labels), (test_data, test_labels) = imdb.load_data(num_words=10000)\n",
        "\n",
        "train_data[0]\n",
        "\n",
        "\n",
        "# In[23]:\n",
        "\n",
        "\n",
        "train_labels[0]"
      ],
      "execution_count": 1,
      "outputs": [
        {
          "output_type": "stream",
          "text": [
            "Using TensorFlow backend.\n"
          ],
          "name": "stderr"
        },
        {
          "output_type": "stream",
          "text": [
            "Downloading data from https://s3.amazonaws.com/text-datasets/imdb.npz\n",
            "17465344/17464789 [==============================] - 1s 0us/step\n",
            "17473536/17464789 [==============================] - 1s 0us/step\n"
          ],
          "name": "stdout"
        },
        {
          "output_type": "execute_result",
          "data": {
            "text/plain": [
              "1"
            ]
          },
          "metadata": {
            "tags": []
          },
          "execution_count": 1
        }
      ]
    },
    {
      "metadata": {
        "id": "1meZbj5TBh2w",
        "colab_type": "code",
        "colab": {
          "base_uri": "https://localhost:8080/",
          "height": 105
        },
        "outputId": "d57fc95b-84b2-4ce6-d15a-a1dfbe249390"
      },
      "cell_type": "code",
      "source": [
        "\n",
        "\n",
        "# Since we restricted ourselves to the top 10,000 most frequent words, no word index will exceed 10,000:\n",
        "\n",
        "max([max(sequence) for sequence in train_data])\n",
        "\n",
        "\n",
        "# For kicks, here's how you can quickly decode one of these reviews back to English words:\n",
        "\n",
        "\n",
        "# word_index is a dictionary mapping words to an integer index\n",
        "word_index = imdb.get_word_index()\n",
        "# We reverse it, mapping integer indices to words\n",
        "reverse_word_index = dict([(value, key) for (key, value) in word_index.items()])\n",
        "# We decode the review; note that our indices were offset by 3\n",
        "# because 0, 1 and 2 are reserved indices for \"padding\", \"start of sequence\", and \"unknown\".\n",
        "decoded_review = ' '.join([reverse_word_index.get(i - 3, '?') for i in train_data[0]])\n",
        "\n",
        "\n",
        "\n",
        "decoded_review\n"
      ],
      "execution_count": 2,
      "outputs": [
        {
          "output_type": "stream",
          "text": [
            "Downloading data from https://s3.amazonaws.com/text-datasets/imdb_word_index.json\n",
            "1646592/1641221 [==============================] - 0s 0us/step\n",
            "1654784/1641221 [==============================] - 0s 0us/step\n"
          ],
          "name": "stdout"
        },
        {
          "output_type": "execute_result",
          "data": {
            "text/plain": [
              "u\"? this film was just brilliant casting location scenery story direction everyone's really suited the part they played and you could just imagine being there robert ? is an amazing actor and now the same being director ? father came from the same scottish island as myself so i loved the fact there was a real connection with this film the witty remarks throughout the film were great it was just brilliant so much that i bought the film as soon as it was released for ? and would recommend it to everyone to watch and the fly fishing was amazing really cried at the end it was so sad and you know what they say if you cry at a film it must have been good and this definitely was also ? to the two little boy's that played the ? of norman and paul they were just brilliant children are often left out of the ? list i think because the stars that play them all grown up are such a big profile for the whole film but these children are amazing and should be praised for what they have done don't you think the whole story was so lovely because it was true and was someone's life after all that was shared with us all\""
            ]
          },
          "metadata": {
            "tags": []
          },
          "execution_count": 2
        }
      ]
    },
    {
      "metadata": {
        "id": "2sW6lYcgB07t",
        "colab_type": "code",
        "colab": {}
      },
      "cell_type": "code",
      "source": [
        "# Preparing the data\n",
        "\n",
        "import numpy as np\n",
        "\n",
        "def vectorize_sequences(sequences, dimension=10000):\n",
        "    # Create an all-zero matrix of shape (len(sequences), dimension)\n",
        "    results = np.zeros((len(sequences), dimension))\n",
        "    for i, sequence in enumerate(sequences):\n",
        "        results[i, sequence] = 1.  # set specific indices of results[i] to 1s\n",
        "    return results"
      ],
      "execution_count": 0,
      "outputs": []
    },
    {
      "metadata": {
        "id": "78iTn4RdB6Ej",
        "colab_type": "code",
        "colab": {}
      },
      "cell_type": "code",
      "source": [
        "\n",
        "# Our vectorized training data\n",
        "x_train = vectorize_sequences(train_data)\n",
        "# Our vectorized test data\n",
        "x_test = vectorize_sequences(test_data)\n",
        "\n"
      ],
      "execution_count": 0,
      "outputs": []
    },
    {
      "metadata": {
        "id": "5A-qhDHzB9Qe",
        "colab_type": "code",
        "colab": {}
      },
      "cell_type": "code",
      "source": [
        "\n",
        "# Here's what our samples look like now:\n",
        "\n",
        "x_train[0]\n",
        "\n",
        "\n",
        "# We should also vectorize our labels, which is straightforward:\n",
        "\n",
        "# Our vectorized labels\n",
        "y_train = np.asarray(train_labels).astype('float32')\n",
        "y_test = np.asarray(test_labels).astype('float32')\n"
      ],
      "execution_count": 0,
      "outputs": []
    },
    {
      "metadata": {
        "id": "JoBl6XmyCBSR",
        "colab_type": "code",
        "colab": {}
      },
      "cell_type": "code",
      "source": [
        "\n",
        "# Now our data is ready to be fed into a neural network.\n",
        "\n",
        "# Building our network\n",
        "from keras import models\n",
        "from keras import layers\n",
        "\n",
        "model = models.Sequential()\n",
        "model.add(layers.Dense(16, activation='relu', input_shape=(10000,)))\n",
        "model.add(layers.Dense(16, activation='relu'))\n",
        "model.add(layers.Dense(1, activation='sigmoid'))\n",
        "\n"
      ],
      "execution_count": 0,
      "outputs": []
    },
    {
      "metadata": {
        "id": "2kF7p2VICEiB",
        "colab_type": "code",
        "colab": {}
      },
      "cell_type": "code",
      "source": [
        "\n",
        "# Here's the step where we configure our model with the `rmsprop` optimizer and the `binary_crossentropy` loss function. Note that we will \n",
        "# also monitor accuracy during training.\n",
        "\n",
        "model.compile(optimizer='rmsprop',\n",
        "              loss='binary_crossentropy',\n",
        "              metrics=['accuracy'])\n",
        "\n",
        "\n",
        "\n",
        "from keras import optimizers\n",
        "\n",
        "model.compile(optimizer=optimizers.RMSprop(lr=0.001),\n",
        "              loss='binary_crossentropy',\n",
        "              metrics=['accuracy'])\n",
        "\n",
        "\n",
        "# The latter can be done by passing function objects as the `loss` or `metrics` arguments:\n"
      ],
      "execution_count": 0,
      "outputs": []
    },
    {
      "metadata": {
        "id": "X5DePQJ5CH6b",
        "colab_type": "code",
        "colab": {
          "base_uri": "https://localhost:8080/",
          "height": 731
        },
        "outputId": "e9087d4c-8fde-48ce-c701-3abea197843a"
      },
      "cell_type": "code",
      "source": [
        "\n",
        "from keras import losses\n",
        "from keras import metrics\n",
        "\n",
        "model.compile(optimizer=optimizers.RMSprop(lr=0.001),\n",
        "              loss=losses.binary_crossentropy,\n",
        "              metrics=[metrics.binary_accuracy])\n",
        "\n",
        "\n",
        "## Validating our approach\n",
        "x_val = x_train[:10000]\n",
        "partial_x_train = x_train[10000:]\n",
        "\n",
        "y_val = y_train[:10000]\n",
        "partial_y_train = y_train[10000:]\n",
        "\n",
        "history = model.fit(partial_x_train,\n",
        "                    partial_y_train,\n",
        "                    epochs=20,\n",
        "                    batch_size=512,\n",
        "                    validation_data=(x_val, y_val))\n",
        "\n",
        "\n",
        "history_dict = history.history\n",
        "history_dict.keys()\n"
      ],
      "execution_count": 8,
      "outputs": [
        {
          "output_type": "stream",
          "text": [
            "Train on 15000 samples, validate on 10000 samples\n",
            "Epoch 1/20\n",
            "15000/15000 [==============================] - 3s 170us/step - loss: 0.5045 - binary_accuracy: 0.7874 - val_loss: 0.3781 - val_binary_accuracy: 0.8697\n",
            "Epoch 2/20\n",
            "15000/15000 [==============================] - 3s 180us/step - loss: 0.2992 - binary_accuracy: 0.9048 - val_loss: 0.3003 - val_binary_accuracy: 0.8897\n",
            "Epoch 3/20\n",
            "15000/15000 [==============================] - 3s 182us/step - loss: 0.2173 - binary_accuracy: 0.9279 - val_loss: 0.3079 - val_binary_accuracy: 0.8717\n",
            "Epoch 4/20\n",
            "15000/15000 [==============================] - 3s 182us/step - loss: 0.1747 - binary_accuracy: 0.9439 - val_loss: 0.2833 - val_binary_accuracy: 0.8848\n",
            "Epoch 5/20\n",
            "15000/15000 [==============================] - 3s 181us/step - loss: 0.1422 - binary_accuracy: 0.9539 - val_loss: 0.2857 - val_binary_accuracy: 0.8855\n",
            "Epoch 6/20\n",
            "15000/15000 [==============================] - 3s 182us/step - loss: 0.1147 - binary_accuracy: 0.9651 - val_loss: 0.3124 - val_binary_accuracy: 0.8784\n",
            "Epoch 7/20\n",
            "15000/15000 [==============================] - 3s 182us/step - loss: 0.0978 - binary_accuracy: 0.9711 - val_loss: 0.3132 - val_binary_accuracy: 0.8842\n",
            "Epoch 8/20\n",
            "15000/15000 [==============================] - 3s 182us/step - loss: 0.0805 - binary_accuracy: 0.9764 - val_loss: 0.3862 - val_binary_accuracy: 0.8657\n",
            "Epoch 9/20\n",
            "15000/15000 [==============================] - 3s 182us/step - loss: 0.0661 - binary_accuracy: 0.9819 - val_loss: 0.3638 - val_binary_accuracy: 0.8778\n",
            "Epoch 10/20\n",
            "15000/15000 [==============================] - 3s 182us/step - loss: 0.0563 - binary_accuracy: 0.9851 - val_loss: 0.3845 - val_binary_accuracy: 0.8790\n",
            "Epoch 11/20\n",
            "15000/15000 [==============================] - 3s 181us/step - loss: 0.0437 - binary_accuracy: 0.9897 - val_loss: 0.4148 - val_binary_accuracy: 0.8776\n",
            "Epoch 12/20\n",
            "15000/15000 [==============================] - 3s 183us/step - loss: 0.0381 - binary_accuracy: 0.9919 - val_loss: 0.4539 - val_binary_accuracy: 0.8686\n",
            "Epoch 13/20\n",
            "15000/15000 [==============================] - 3s 186us/step - loss: 0.0300 - binary_accuracy: 0.9930 - val_loss: 0.4701 - val_binary_accuracy: 0.8732\n",
            "Epoch 14/20\n",
            "15000/15000 [==============================] - 3s 182us/step - loss: 0.0250 - binary_accuracy: 0.9941 - val_loss: 0.5033 - val_binary_accuracy: 0.8724\n",
            "Epoch 15/20\n",
            "15000/15000 [==============================] - 3s 182us/step - loss: 0.0197 - binary_accuracy: 0.9967 - val_loss: 0.5306 - val_binary_accuracy: 0.8701\n",
            "Epoch 16/20\n",
            "15000/15000 [==============================] - 3s 183us/step - loss: 0.0164 - binary_accuracy: 0.9967 - val_loss: 0.5640 - val_binary_accuracy: 0.8698\n",
            "Epoch 17/20\n",
            "15000/15000 [==============================] - 3s 183us/step - loss: 0.0129 - binary_accuracy: 0.9982 - val_loss: 0.5962 - val_binary_accuracy: 0.8663\n",
            "Epoch 18/20\n",
            "15000/15000 [==============================] - 3s 183us/step - loss: 0.0110 - binary_accuracy: 0.9983 - val_loss: 0.6266 - val_binary_accuracy: 0.8676\n",
            "Epoch 19/20\n",
            "15000/15000 [==============================] - 3s 183us/step - loss: 0.0070 - binary_accuracy: 0.9993 - val_loss: 0.7581 - val_binary_accuracy: 0.8501\n",
            "Epoch 20/20\n",
            "15000/15000 [==============================] - 3s 185us/step - loss: 0.0051 - binary_accuracy: 0.9997 - val_loss: 0.6875 - val_binary_accuracy: 0.8652\n"
          ],
          "name": "stdout"
        },
        {
          "output_type": "execute_result",
          "data": {
            "text/plain": [
              "['loss', 'val_binary_accuracy', 'val_loss', 'binary_accuracy']"
            ]
          },
          "metadata": {
            "tags": []
          },
          "execution_count": 8
        }
      ]
    },
    {
      "metadata": {
        "id": "Vd8B5SUQCK74",
        "colab_type": "code",
        "colab": {
          "base_uri": "https://localhost:8080/",
          "height": 735
        },
        "outputId": "ed9eead9-78de-480a-831f-627d27acad74"
      },
      "cell_type": "code",
      "source": [
        "import matplotlib.pyplot as plt\n",
        "\n",
        "acc = history.history['binary_accuracy']\n",
        "val_acc = history.history['val_binary_accuracy']\n",
        "loss = history.history['loss']\n",
        "val_loss = history.history['val_loss']\n",
        "\n",
        "epochs = range(1, len(acc) + 1)\n",
        "\n",
        "# \"bo\" is for \"blue dot\"\n",
        "plt.plot(epochs, loss, 'bo', label='Training loss')\n",
        "# b is for \"solid blue line\"\n",
        "plt.plot(epochs, val_loss, 'b', label='Validation loss')\n",
        "plt.title('Training and validation loss')\n",
        "plt.xlabel('Epochs')\n",
        "plt.ylabel('Loss')\n",
        "plt.legend()\n",
        "\n",
        "plt.show()\n",
        "\n",
        "\n",
        "plt.clf()   # clear figure\n",
        "acc_values = history_dict['binary_accuracy']\n",
        "val_acc_values = history_dict['val_binary_accuracy']\n",
        "\n",
        "plt.plot(epochs, acc, 'bo', label='Training acc')\n",
        "plt.plot(epochs, val_acc, 'b', label='Validation acc')\n",
        "plt.title('Training and validation accuracy')\n",
        "plt.xlabel('Epochs')\n",
        "plt.ylabel('Loss')\n",
        "plt.legend()\n",
        "\n",
        "plt.show()\n",
        "\n",
        "\n",
        "# Let's train a new network from scratch for four epochs, then evaluate it on our test data:\n",
        "\n",
        "model = models.Sequential()\n",
        "model.add(layers.Dense(16, activation='relu', input_shape=(10000,)))\n",
        "model.add(layers.Dense(16, activation='relu'))\n",
        "model.add(layers.Dense(1, activation='sigmoid'))\n",
        "\n",
        "model.compile(optimizer='rmsprop',\n",
        "              loss='binary_crossentropy',\n",
        "              metrics=['accuracy'])\n",
        "\n",
        "\n"
      ],
      "execution_count": 10,
      "outputs": [
        {
          "output_type": "display_data",
          "data": {
            "image/png": "[encoded data removed]",
            "text/plain": [
              "<matplotlib.figure.Figure at 0x7fed2e28d390>"
            ]
          },
          "metadata": {
            "tags": []
          }
        },
        {
          "output_type": "display_data",
          "data": {
            "image/png": "[encoded data removed]",
            "text/plain": [
              "<matplotlib.figure.Figure at 0x7fed2f0a2e90>"
            ]
          },
          "metadata": {
            "tags": []
          }
        }
      ]
    },
    {
      "metadata": {
        "id": "laLmKEoICZTI",
        "colab_type": "code",
        "colab": {
          "base_uri": "https://localhost:8080/",
          "height": 289
        },
        "outputId": "278887b2-e065-4853-98dc-e252e41351a4"
      },
      "cell_type": "code",
      "source": [
        "\n",
        "model.fit(x_train, y_train, epochs=4, batch_size=512)\n",
        "results = model.evaluate(x_test, y_test)\n",
        "\n",
        "\n",
        "results\n",
        "\n",
        "## Using a trained network to generate predictions on new data\n",
        "\n",
        "model.predict(x_test)\n"
      ],
      "execution_count": 11,
      "outputs": [
        {
          "output_type": "stream",
          "text": [
            "Epoch 1/4\n",
            "25000/25000 [==============================] - 3s 130us/step - loss: 0.4737 - acc: 0.8224\n",
            "Epoch 2/4\n",
            "25000/25000 [==============================] - 3s 129us/step - loss: 0.2674 - acc: 0.9094\n",
            "Epoch 3/4\n",
            "25000/25000 [==============================] - 3s 129us/step - loss: 0.2033 - acc: 0.9282\n",
            "Epoch 4/4\n",
            "25000/25000 [==============================] - 3s 128us/step - loss: 0.1714 - acc: 0.9387\n",
            "25000/25000 [==============================] - 2s 84us/step\n"
          ],
          "name": "stdout"
        },
        {
          "output_type": "execute_result",
          "data": {
            "text/plain": [
              "array([[0.1617956 ],\n",
              "       [0.9998498 ],\n",
              "       [0.4020611 ],\n",
              "       ...,\n",
              "       [0.08181959],\n",
              "       [0.04903647],\n",
              "       [0.45625064]], dtype=float32)"
            ]
          },
          "metadata": {
            "tags": []
          },
          "execution_count": 11
        }
      ]
    },
    {
      "metadata": {
        "id": "v3t7fAMwDAC4",
        "colab_type": "code",
        "colab": {}
      },
      "cell_type": "code",
      "source": [
        ""
      ],
      "execution_count": 0,
      "outputs": []
    }
  ]
}